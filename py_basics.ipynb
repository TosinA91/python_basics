{
 "cells": [
  {
   "cell_type": "code",
   "execution_count": 1,
   "metadata": {},
   "outputs": [
    {
     "data": {
      "text/plain": [
       "22"
      ]
     },
     "execution_count": 1,
     "metadata": {},
     "output_type": "execute_result"
    }
   ],
   "source": [
    "6 + 16"
   ]
  },
  {
   "cell_type": "code",
   "execution_count": 2,
   "metadata": {},
   "outputs": [
    {
     "name": "stdout",
     "output_type": "stream",
     "text": [
      "Good Morning\n"
     ]
    }
   ],
   "source": [
    "print('Good Morning')"
   ]
  },
  {
   "cell_type": "markdown",
   "metadata": {},
   "source": [
    "### Syntax Error"
   ]
  },
  {
   "cell_type": "code",
   "execution_count": 3,
   "metadata": {},
   "outputs": [
    {
     "ename": "SyntaxError",
     "evalue": "EOL while scanning string literal (<ipython-input-3-423bb72d295d>, line 1)",
     "output_type": "error",
     "traceback": [
      "\u001b[0;36m  File \u001b[0;32m\"<ipython-input-3-423bb72d295d>\"\u001b[0;36m, line \u001b[0;32m1\u001b[0m\n\u001b[0;31m    print('Hey)\u001b[0m\n\u001b[0m               ^\u001b[0m\n\u001b[0;31mSyntaxError\u001b[0m\u001b[0;31m:\u001b[0m EOL while scanning string literal\n"
     ]
    }
   ],
   "source": [
    "print('Hey)"
   ]
  },
  {
   "cell_type": "markdown",
   "metadata": {},
   "source": [
    "### Runtime Error"
   ]
  },
  {
   "cell_type": "code",
   "execution_count": null,
   "metadata": {},
   "outputs": [],
   "source": [
    "print(hello)"
   ]
  },
  {
   "cell_type": "markdown",
   "metadata": {},
   "source": [
    "#### Exercises"
   ]
  },
  {
   "cell_type": "code",
   "execution_count": null,
   "metadata": {},
   "outputs": [],
   "source": [
    "# write a program that wont run because of a syntax error\n",
    "print(six * five')"
   ]
  },
  {
   "cell_type": "code",
   "execution_count": null,
   "metadata": {},
   "outputs": [],
   "source": [
    "# write a program that crashes only while it’s running because it has a runtime error”\n",
    "print(primetime)"
   ]
  },
  {
   "cell_type": "code",
   "execution_count": 4,
   "metadata": {},
   "outputs": [
    {
     "name": "stdout",
     "output_type": "stream",
     "text": [
      "hey\n"
     ]
    }
   ],
   "source": [
    "greeting = 'hey'\n",
    "print(greeting)"
   ]
  },
  {
   "cell_type": "markdown",
   "metadata": {},
   "source": [
    "### Use descriptive names for variables"
   ]
  },
  {
   "cell_type": "code",
   "execution_count": 5,
   "metadata": {},
   "outputs": [],
   "source": [
    "# seconds_per_hour > s or seconds\n",
    "\n",
    "seconds_per_hour = 3600"
   ]
  },
  {
   "cell_type": "markdown",
   "metadata": {},
   "source": [
    "#### Exercises "
   ]
  },
  {
   "cell_type": "code",
   "execution_count": 6,
   "metadata": {},
   "outputs": [
    {
     "name": "stdout",
     "output_type": "stream",
     "text": [
      "the king is here\n"
     ]
    }
   ],
   "source": [
    "# display some text using print()\n",
    "\n",
    "print('the king is here')"
   ]
  },
  {
   "cell_type": "code",
   "execution_count": 7,
   "metadata": {},
   "outputs": [
    {
     "name": "stdout",
     "output_type": "stream",
     "text": [
      "BMW\n"
     ]
    }
   ],
   "source": [
    "# display a variable using print()\n",
    "car = 'BMW'\n",
    "print(car)"
   ]
  },
  {
   "cell_type": "markdown",
   "metadata": {},
   "source": [
    "### Variable inspection"
   ]
  },
  {
   "cell_type": "code",
   "execution_count": 8,
   "metadata": {},
   "outputs": [
    {
     "data": {
      "text/plain": [
       "'BMW'"
      ]
     },
     "execution_count": 8,
     "metadata": {},
     "output_type": "execute_result"
    }
   ],
   "source": [
    "# displays string literal\n",
    "car"
   ]
  },
  {
   "cell_type": "code",
   "execution_count": 9,
   "metadata": {},
   "outputs": [
    {
     "name": "stdout",
     "output_type": "stream",
     "text": [
      "BMW\n"
     ]
    }
   ],
   "source": [
    "# displays human readable representation of the variable\n",
    "print(car)"
   ]
  },
  {
   "cell_type": "markdown",
   "metadata": {},
   "source": [
    "### String & String Methods"
   ]
  },
  {
   "cell_type": "code",
   "execution_count": 10,
   "metadata": {},
   "outputs": [
    {
     "data": {
      "text/plain": [
       "str"
      ]
     },
     "execution_count": 10,
     "metadata": {},
     "output_type": "execute_result"
    }
   ],
   "source": [
    "type('hey')"
   ]
  },
  {
   "cell_type": "code",
   "execution_count": 11,
   "metadata": {},
   "outputs": [
    {
     "data": {
      "text/plain": [
       "str"
      ]
     },
     "execution_count": 11,
     "metadata": {},
     "output_type": "execute_result"
    }
   ],
   "source": [
    "phrase = 'Wassup Doc'\n",
    "type(phrase)"
   ]
  },
  {
   "cell_type": "markdown",
   "metadata": {},
   "source": [
    "#### String Literals\n",
    "\n",
    "Strings created using quotation marks are known as string literals."
   ]
  },
  {
   "cell_type": "code",
   "execution_count": 12,
   "metadata": {},
   "outputs": [
    {
     "data": {
      "text/plain": [
       "'Hey ma'"
      ]
     },
     "execution_count": 12,
     "metadata": {},
     "output_type": "execute_result"
    }
   ],
   "source": [
    "string1 = 'Hey ma'\n",
    "string1"
   ]
  },
  {
   "cell_type": "markdown",
   "metadata": {},
   "source": [
    "#### Escape character"
   ]
  },
  {
   "cell_type": "code",
   "execution_count": 13,
   "metadata": {},
   "outputs": [
    {
     "name": "stdout",
     "output_type": "stream",
     "text": [
      "She said, \"Take the shot\n",
      "He said, \"Shoot the shot\"\n"
     ]
    }
   ],
   "source": [
    "# print(\"She said, \"Take the shot\") error\n",
    "print(\"She said, \\\"Take the shot\") # fixes theerror by escaping the character\n",
    "print('He said, \"Shoot the shot\"')\n"
   ]
  },
  {
   "cell_type": "markdown",
   "metadata": {},
   "source": [
    "#### Len Function"
   ]
  },
  {
   "cell_type": "code",
   "execution_count": 14,
   "metadata": {},
   "outputs": [
    {
     "name": "stdout",
     "output_type": "stream",
     "text": [
      "9\n",
      "6\n"
     ]
    }
   ],
   "source": [
    "print(len('cavaliers'))\n",
    "print(len(string1))"
   ]
  },
  {
   "cell_type": "markdown",
   "metadata": {},
   "source": [
    "### Multiline Strings"
   ]
  },
  {
   "cell_type": "code",
   "execution_count": 15,
   "metadata": {},
   "outputs": [
    {
     "name": "stdout",
     "output_type": "stream",
     "text": [
      "The planet has–or rather had–a problem, which was this: most of the people living on it were unhappy for pretty much all of the time.\n"
     ]
    }
   ],
   "source": [
    "paragraph = 'The planet has–or rather had–a problem, which was this: \\\n",
    "most of the people living on it were unhappy for pretty much \\\n",
    "all of the time.' \n",
    "print(paragraph)"
   ]
  },
  {
   "cell_type": "code",
   "execution_count": 16,
   "metadata": {},
   "outputs": [
    {
     "name": "stdout",
     "output_type": "stream",
     "text": [
      "This line will be printed on one line.\n"
     ]
    }
   ],
   "source": [
    "long_string = 'This line will be printed on \\\n",
    "one line.'\n",
    "print(long_string)"
   ]
  },
  {
   "cell_type": "code",
   "execution_count": 17,
   "metadata": {},
   "outputs": [
    {
     "name": "stdout",
     "output_type": "stream",
     "text": [
      "An example of a\n",
      "    string that spans across multiple lines\n",
      "        and also preserves whitespace.\n"
     ]
    }
   ],
   "source": [
    "print(\"\"\"An example of a\n",
    "    string that spans across multiple lines\n",
    "        and also preserves whitespace.\"\"\") "
   ]
  },
  {
   "cell_type": "markdown",
   "metadata": {},
   "source": [
    "#### Exercises\n"
   ]
  },
  {
   "cell_type": "code",
   "execution_count": 18,
   "metadata": {},
   "outputs": [
    {
     "name": "stdout",
     "output_type": "stream",
     "text": [
      "He said, \"LeBron is the best.\"\n",
      "What's her address\n",
      "This \n",
      "    line \n",
      "        spans multiple lines\n",
      " My favorite meal to eat is Oxtail with rice and peas\n"
     ]
    }
   ],
   "source": [
    "print('He said, \"LeBron is the best.\"') # print a string that uses double quotes\n",
    "print('What\\'s her address') # print a string that uses an apostrophe\n",
    "print(\"\"\"This \n",
    "    line \n",
    "        spans multiple lines\"\"\") #print a string that spans multiple lines and preserves whitespace\n",
    "print(' My favorite \\\n",
    "meal to eat is \\\n",
    "Oxtail with rice and peas') # print a multiline string that gets printed on a single line"
   ]
  },
  {
   "cell_type": "markdown",
   "metadata": {},
   "source": [
    "### String Concatenation"
   ]
  },
  {
   "cell_type": "code",
   "execution_count": 19,
   "metadata": {},
   "outputs": [
    {
     "name": "stdout",
     "output_type": "stream",
     "text": [
      "Basketball\n",
      "Apple Macbook Pro\n"
     ]
    }
   ],
   "source": [
    "string1 = 'Basket'\n",
    "string2 = 'ball'\n",
    "print(string1 + string2)\n",
    "\n",
    "string3 = 'Apple Macbook'\n",
    "string4 = 'Pro'\n",
    "print(string3 + ' ' + string4)"
   ]
  },
  {
   "cell_type": "markdown",
   "metadata": {},
   "source": [
    "### String Indexing \n",
    "Indexing starts at 0"
   ]
  },
  {
   "cell_type": "code",
   "execution_count": 20,
   "metadata": {},
   "outputs": [
    {
     "data": {
      "text/plain": [
       "'s'"
      ]
     },
     "execution_count": 20,
     "metadata": {},
     "output_type": "execute_result"
    }
   ],
   "source": [
    "meal = 'Oxtail and rice and peas'\n",
    "meal[0] # returns the first character\n",
    "meal[-1] # returns the last character"
   ]
  },
  {
   "cell_type": "markdown",
   "metadata": {},
   "source": [
    "### String Slicing"
   ]
  },
  {
   "cell_type": "code",
   "execution_count": 21,
   "metadata": {},
   "outputs": [
    {
     "name": "stdout",
     "output_type": "stream",
     "text": [
      "Oxta\n",
      "il and rice and peas\n",
      "Oxtail and rice and peas\n",
      "\n"
     ]
    }
   ],
   "source": [
    "first_four_letters = meal[:4] # returns characters between index 0 & 4 does not include index 4\n",
    "print(first_four_letters)\n",
    "\n",
    "print(meal[4:]) # returns all characters from 4th index to the end of the string \n",
    "\n",
    "print(meal[:]) # returns all characters\n",
    "\n",
    "print(meal[26:]) # slicing out of bound returns an empty string"
   ]
  },
  {
   "cell_type": "markdown",
   "metadata": {},
   "source": [
    "### Strings are Immutable"
   ]
  },
  {
   "cell_type": "code",
   "execution_count": 22,
   "metadata": {},
   "outputs": [
    {
     "ename": "TypeError",
     "evalue": "'str' object does not support item assignment",
     "output_type": "error",
     "traceback": [
      "\u001b[0;31m---------------------------------------------------------------------------\u001b[0m",
      "\u001b[0;31mTypeError\u001b[0m                                 Traceback (most recent call last)",
      "\u001b[0;32m<ipython-input-22-067dba3ed50e>\u001b[0m in \u001b[0;36m<module>\u001b[0;34m\u001b[0m\n\u001b[1;32m      1\u001b[0m \u001b[0mword\u001b[0m \u001b[0;34m=\u001b[0m \u001b[0;34m'mace'\u001b[0m\u001b[0;34m\u001b[0m\u001b[0;34m\u001b[0m\u001b[0m\n\u001b[0;32m----> 2\u001b[0;31m \u001b[0mword\u001b[0m\u001b[0;34m[\u001b[0m\u001b[0;36m0\u001b[0m\u001b[0;34m]\u001b[0m \u001b[0;34m=\u001b[0m \u001b[0;34m'f'\u001b[0m\u001b[0;34m\u001b[0m\u001b[0;34m\u001b[0m\u001b[0m\n\u001b[0m",
      "\u001b[0;31mTypeError\u001b[0m: 'str' object does not support item assignment"
     ]
    }
   ],
   "source": [
    "word = 'mace'\n",
    "word[0] = 'f'"
   ]
  },
  {
   "cell_type": "code",
   "execution_count": null,
   "metadata": {},
   "outputs": [],
   "source": [
    "word = 'f' + word[1:]\n",
    "print(word)"
   ]
  },
  {
   "cell_type": "markdown",
   "metadata": {},
   "source": [
    "#### Exercises"
   ]
  },
  {
   "cell_type": "code",
   "execution_count": null,
   "metadata": {},
   "outputs": [],
   "source": [
    "print(len('library')) # print the length of a str using len()\n",
    "\n",
    "string1 = 'Mac'\n",
    "string2 = 'book'\n",
    "print(string1 + string2) # create two strings, concatenate them and print the result\n",
    "\n",
    "f_name = 'Kyrie'\n",
    "l_name = 'Iriving'\n",
    "\n",
    "print(f_name + ' ' + l_name)\n",
    "\n",
    "word = 'bazinga'\n",
    "print(word[2:])\n",
    "\n"
   ]
  },
  {
   "cell_type": "markdown",
   "metadata": {},
   "source": [
    "### String Methods"
   ]
  },
  {
   "cell_type": "code",
   "execution_count": null,
   "metadata": {},
   "outputs": [],
   "source": [
    "print('library'.upper())\n",
    "print('library'.lower())\n",
    "print('library'.capitalize())\n",
    "\n",
    "word2 = '  population       ' \n",
    "print(word2.rstrip())\n",
    "print(word2.lstrip())\n",
    "print(word2.strip())\n",
    "\n",
    "\n",
    "word3 = 'floss'\n",
    "print(word3.startswith('fl'))\n",
    "print(word3.startswith('ace'))\n",
    "\n",
    "print(word3.endswith('ss'))\n",
    "print(word3.endswith('ion'))\n"
   ]
  },
  {
   "cell_type": "code",
   "execution_count": null,
   "metadata": {},
   "outputs": [],
   "source": [
    "str1 = 'Animals' # convert the listed str to lower case\n",
    "str2 = 'Badger'\n",
    "str3 = 'Honey Bee'\n",
    "str4 = 'Honey Badger'\n",
    "\n",
    "print(str1.lower())\n",
    "print(str2.lower())\n",
    "print(str3.lower())\n",
    "print(str4.lower())\n",
    "\n",
    "print(str1.upper()) # convert to upper \n",
    "print(str2.upper())\n",
    "print(str3.upper())\n",
    "print(str4.upper())\n",
    "\n",
    "meat = '   Filet Mignon' # remove the whitespace\n",
    "meat2 = 'Brisket  '\n",
    "meat3 = '  Cheeseburger  '\n",
    "\n",
    "print(meat.lstrip())\n",
    "print(meat2.rstrip())\n",
    "print(meat3.strip())\n",
    "\n",
    "\n",
    "text = 'Becomes'\n",
    "text2 = 'becomes'\n",
    "text3 = 'BEAR'\n",
    "text4 = ' bEautiful'\n",
    "\n",
    "print(text.startswith('be')) # print the result of startwith() on the listed strings\n",
    "print(text2.startswith('be'))\n",
    "print(text3.startswith('be'))\n",
    "print(text4.startswith('be'))\n",
    "\n",
    "print(text.lower().startswith('be')) # modify so that the results are all True \n",
    "print(text2.startswith('be'))\n",
    "print(text3.lower().startswith('be'))\n",
    "print(text4.strip().lower().startswith('be'))"
   ]
  },
  {
   "cell_type": "markdown",
   "metadata": {},
   "source": [
    "### User Input "
   ]
  },
  {
   "cell_type": "code",
   "execution_count": null,
   "metadata": {},
   "outputs": [],
   "source": [
    "input()"
   ]
  },
  {
   "cell_type": "code",
   "execution_count": null,
   "metadata": {},
   "outputs": [],
   "source": [
    "prompt = \"Hey, what's up ?\"\n",
    "user_input = input(prompt)\n",
    "print('You said: ' + user_input)"
   ]
  },
  {
   "cell_type": "code",
   "execution_count": null,
   "metadata": {},
   "outputs": [],
   "source": [
    "response = input('What should I shout? ')\n",
    "shouted_response = response.upper()\n",
    "print('Well, if you insist...' + shouted_response)"
   ]
  },
  {
   "cell_type": "markdown",
   "metadata": {},
   "source": [
    "#### Exercises"
   ]
  },
  {
   "cell_type": "code",
   "execution_count": 23,
   "metadata": {},
   "outputs": [
    {
     "name": "stdout",
     "output_type": "stream",
     "text": [
      "Ask me a questionHow long does it take to become an Engineer?\n",
      "How long does it take to become an Engineer?\n",
      "how long does it take to become an engineer?\n",
      "44\n"
     ]
    }
   ],
   "source": [
    "question = input('Ask me a question')\n",
    "print(question)\n",
    "print(question.lower())\n",
    "print(len(question))"
   ]
  }
 ],
 "metadata": {
  "kernelspec": {
   "display_name": "Python 3",
   "language": "python",
   "name": "python3"
  },
  "language_info": {
   "codemirror_mode": {
    "name": "ipython",
    "version": 3
   },
   "file_extension": ".py",
   "mimetype": "text/x-python",
   "name": "python",
   "nbconvert_exporter": "python",
   "pygments_lexer": "ipython3",
   "version": "3.7.9"
  }
 },
 "nbformat": 4,
 "nbformat_minor": 4
}
